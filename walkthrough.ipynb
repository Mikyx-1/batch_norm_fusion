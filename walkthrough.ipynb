{
 "cells": [
  {
   "cell_type": "code",
   "execution_count": null,
   "metadata": {},
   "outputs": [],
   "source": [
    "from fusion import fuse\n",
    "import torch\n",
    "from torch import nn\n",
    "import torchvision\n",
    "from copy import deepcopy\n",
    "import time"
   ]
  },
  {
   "cell_type": "code",
   "execution_count": null,
   "metadata": {},
   "outputs": [],
   "source": [
    "torch.set_grad_enabled(False)"
   ]
  },
  {
   "cell_type": "code",
   "execution_count": null,
   "metadata": {},
   "outputs": [],
   "source": [
    "model = torchvision.models.resnet152(pretrained=False)\n",
    "model.eval()\n",
    "fused_model = fuse(model)\n",
    "fused_model.eval()\n",
    "print()\n",
    "\n",
    "dummy = torch.randn((1, 3, 224, 224))\n",
    "res1 = model(dummy)\n",
    "res2 = fused_model(dummy)\n",
    "output_difference = torch.linalg.norm(res1-res2)\n",
    "print(f\"Output difference after fusion: {output_difference}\")"
   ]
  },
  {
   "cell_type": "code",
   "execution_count": null,
   "metadata": {},
   "outputs": [],
   "source": [
    "start_time = time.time()\n",
    "for _ in range(5):\n",
    "    model(dummy)\n",
    "end_time = time.time()\n",
    "print(f\"Original model takes {end_time - start_time}s to process\")"
   ]
  },
  {
   "cell_type": "code",
   "execution_count": null,
   "metadata": {},
   "outputs": [],
   "source": [
    "start_time = time.time()\n",
    "for _ in range(5):\n",
    "    fused_model(dummy)\n",
    "end_time = time.time()\n",
    "print(f\"Fused model takes {end_time - start_time}s to process\")"
   ]
  }
 ],
 "metadata": {
  "kernelspec": {
   "display_name": "virenv1",
   "language": "python",
   "name": "python3"
  },
  "language_info": {
   "codemirror_mode": {
    "name": "ipython",
    "version": 3
   },
   "file_extension": ".py",
   "mimetype": "text/x-python",
   "name": "python",
   "nbconvert_exporter": "python",
   "pygments_lexer": "ipython3",
   "version": "3.10.15"
  }
 },
 "nbformat": 4,
 "nbformat_minor": 2
}
