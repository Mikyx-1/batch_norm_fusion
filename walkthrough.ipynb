{
 "cells": [
  {
   "cell_type": "code",
   "execution_count": 12,
   "metadata": {},
   "outputs": [],
   "source": [
    "from fusion import fuse\n",
    "import torch\n",
    "from torch import nn\n",
    "import torchvision\n",
    "from copy import deepcopy\n",
    "import time"
   ]
  },
  {
   "cell_type": "code",
   "execution_count": 13,
   "metadata": {},
   "outputs": [
    {
     "data": {
      "text/plain": [
       "<torch.autograd.grad_mode.set_grad_enabled at 0x111b137f0>"
      ]
     },
     "execution_count": 13,
     "metadata": {},
     "output_type": "execute_result"
    }
   ],
   "source": [
    "torch.set_grad_enabled(False)"
   ]
  },
  {
   "cell_type": "code",
   "execution_count": 15,
   "metadata": {},
   "outputs": [
    {
     "name": "stdout",
     "output_type": "stream",
     "text": [
      "\u001b[32mProcess started: Fusing BatchNorm layers into Conv layers.\u001b[0m\n"
     ]
    },
    {
     "name": "stderr",
     "output_type": "stream",
     "text": [
      "Fusing Layers: 100%|██████████| 20/20 [00:00<00:00, 256.75it/s]"
     ]
    },
    {
     "name": "stdout",
     "output_type": "stream",
     "text": [
      "Fusion completed: BatchNorm fusion finished. 4800 parameters were reduced after fusion.\n",
      "\n"
     ]
    },
    {
     "name": "stderr",
     "output_type": "stream",
     "text": [
      "\n"
     ]
    }
   ],
   "source": [
    "model = torchvision.models.resnet18(pretrained=False)\n",
    "model.eval()\n",
    "fused_model = fuse(model)\n",
    "fused_model.eval()\n",
    "print()"
   ]
  },
  {
   "cell_type": "code",
   "execution_count": 16,
   "metadata": {},
   "outputs": [
    {
     "name": "stdout",
     "output_type": "stream",
     "text": [
      "Output difference after fusion: 2.7473939553601667e-05\n"
     ]
    }
   ],
   "source": [
    "dummy = torch.randn((1, 3, 224, 224))\n",
    "res1 = model(dummy)\n",
    "res2 = fused_model(dummy)\n",
    "output_difference = torch.linalg.norm(res1-res2)\n",
    "print(f\"Output difference after fusion: {output_difference}\")"
   ]
  },
  {
   "cell_type": "code",
   "execution_count": 21,
   "metadata": {},
   "outputs": [
    {
     "name": "stdout",
     "output_type": "stream",
     "text": [
      "Original model takes 0.14797377586364746s to process\n"
     ]
    }
   ],
   "source": [
    "start_time = time.time()\n",
    "for _ in range(5):\n",
    "    model(dummy)\n",
    "end_time = time.time()\n",
    "print(f\"Original model takes {end_time - start_time}s to process\")"
   ]
  },
  {
   "cell_type": "code",
   "execution_count": 22,
   "metadata": {},
   "outputs": [
    {
     "name": "stdout",
     "output_type": "stream",
     "text": [
      "Fused model takes 0.10311293601989746s to process\n"
     ]
    }
   ],
   "source": [
    "start_time = time.time()\n",
    "for _ in range(5):\n",
    "    fused_model(dummy)\n",
    "end_time = time.time()\n",
    "print(f\"Fused model takes {end_time - start_time}s to process\")"
   ]
  }
 ],
 "metadata": {
  "kernelspec": {
   "display_name": "virenv1",
   "language": "python",
   "name": "python3"
  },
  "language_info": {
   "codemirror_mode": {
    "name": "ipython",
    "version": 3
   },
   "file_extension": ".py",
   "mimetype": "text/x-python",
   "name": "python",
   "nbconvert_exporter": "python",
   "pygments_lexer": "ipython3",
   "version": "3.10.15"
  }
 },
 "nbformat": 4,
 "nbformat_minor": 2
}
