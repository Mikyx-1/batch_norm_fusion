{
 "cells": [
  {
   "cell_type": "code",
   "execution_count": 1,
   "metadata": {},
   "outputs": [],
   "source": [
    "import torch\n",
    "import torch.nn as nn\n",
    "# from fusion import fuse_conv_and_bn\n",
    "from torch.nn.utils import fuse_conv_bn_eval"
   ]
  },
  {
   "cell_type": "code",
   "execution_count": 2,
   "metadata": {},
   "outputs": [
    {
     "name": "stdout",
     "output_type": "stream",
     "text": [
      "Output diff: 0.0030515091493725777\n"
     ]
    }
   ],
   "source": [
    "torch.set_grad_enabled(False)\n",
    "\n",
    "class ConvBNModel(nn.Module):\n",
    "    def __init__(self, in_channels: int = 3, out_channels: int = 16, kernel_size: int = 3, groups: int = 1):\n",
    "        super(ConvBNModel, self).__init__()\n",
    "        self.conv = nn.Conv2d(\n",
    "            in_channels=in_channels,\n",
    "            out_channels=out_channels,\n",
    "            kernel_size=kernel_size,\n",
    "            stride=1,\n",
    "            padding=1,\n",
    "            bias=True,\n",
    "            groups=groups\n",
    "        )\n",
    "        self.bn = nn.BatchNorm2d(out_channels)\n",
    "\n",
    "    def forward(self, x):\n",
    "        x = self.conv(x)\n",
    "        x = self.bn(x)\n",
    "        return x\n",
    "\n",
    "torch.manual_seed(42)  # For reproducibility\n",
    "\n",
    "layer_params = {\"in_channels\": 4096,\n",
    "                \"out_channels\": 8192,\n",
    "                \"kernel_size\": 3,\n",
    "                \"groups\": 1}\n",
    "layer = ConvBNModel(**layer_params)\n",
    "# layer.conv.to(dtype=torch.double)\n",
    "# layer.bn.to(dtype=torch.double)\n",
    "layer.eval()\n",
    "\n",
    "# fused_layer = fuse_conv_and_bn(layer.conv, layer.bn)\n",
    "# fused_layer.eval()\n",
    "\n",
    "fused_layer = fuse_conv_bn_eval(layer.conv, layer.bn)\n",
    "fused_layer.eval()\n",
    "\n",
    "# dummy = torch.randn((1, layer.conv.in_channels, 16, 16)).double()\n",
    "dummy = torch.randn((1, layer.conv.in_channels, 16, 16))\n",
    "out1 = layer(dummy)\n",
    "out2 = fused_layer(dummy)\n",
    "\n",
    "print(f\"Output diff: {torch.linalg.norm(out1 - out2)}\")"
   ]
  },
  {
   "cell_type": "code",
   "execution_count": 14,
   "metadata": {},
   "outputs": [
    {
     "name": "stdout",
     "output_type": "stream",
     "text": [
      "Output diff: 0.003050478408113122\n"
     ]
    }
   ],
   "source": [
    "layer.float()\n",
    "fused_layer.float()\n",
    "dummy = dummy.float()\n",
    "\n",
    "res1 = layer(dummy)\n",
    "res2 = fused_layer(dummy)\n",
    "print(f\"Output diff: {torch.linalg.norm(res1 - res2)}\")\n",
    "# Slightly smaller than the full-flow float32 conversion"
   ]
  },
  {
   "cell_type": "code",
   "execution_count": 3,
   "metadata": {},
   "outputs": [],
   "source": [
    "a = torch.tensor([257])"
   ]
  },
  {
   "cell_type": "code",
   "execution_count": 4,
   "metadata": {},
   "outputs": [
    {
     "data": {
      "text/plain": [
       "tensor([1], dtype=torch.uint8)"
      ]
     },
     "execution_count": 4,
     "metadata": {},
     "output_type": "execute_result"
    }
   ],
   "source": [
    "a.to(dtype=torch.uint8)"
   ]
  },
  {
   "cell_type": "code",
   "execution_count": 5,
   "metadata": {},
   "outputs": [
    {
     "data": {
      "text/plain": [
       "tensor([257])"
      ]
     },
     "execution_count": 5,
     "metadata": {},
     "output_type": "execute_result"
    }
   ],
   "source": [
    "a"
   ]
  },
  {
   "cell_type": "code",
   "execution_count": null,
   "metadata": {},
   "outputs": [],
   "source": []
  }
 ],
 "metadata": {
  "kernelspec": {
   "display_name": "virenv1",
   "language": "python",
   "name": "python3"
  },
  "language_info": {
   "codemirror_mode": {
    "name": "ipython",
    "version": 3
   },
   "file_extension": ".py",
   "mimetype": "text/x-python",
   "name": "python",
   "nbconvert_exporter": "python",
   "pygments_lexer": "ipython3",
   "version": "3.11.11"
  }
 },
 "nbformat": 4,
 "nbformat_minor": 2
}
